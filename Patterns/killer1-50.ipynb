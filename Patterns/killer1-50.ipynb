{
 "cells": [
  {
   "cell_type": "code",
   "execution_count": 2,
   "id": "626e5ba8",
   "metadata": {},
   "outputs": [
    {
     "name": "stdout",
     "output_type": "stream",
     "text": [
      "86.0\n"
     ]
    }
   ],
   "source": [
    "# Convert celcius to Fahrenhelt\n",
    "f = lambda x:(x*9)/5+32\n",
    "print(f(30))"
   ]
  },
  {
   "cell_type": "code",
   "execution_count": 3,
   "id": "2dd296ee",
   "metadata": {},
   "outputs": [
    {
     "name": "stdout",
     "output_type": "stream",
     "text": [
      "5,4\n"
     ]
    }
   ],
   "source": [
    "#swap without temp\n",
    "a,b= map(int,input(\"Enter the 2 values : \").split())\n",
    "a,b=b,a\n",
    "print(f'{a},{b}')"
   ]
  },
  {
   "cell_type": "code",
   "execution_count": 6,
   "id": "0a99b79c",
   "metadata": {},
   "outputs": [
    {
     "name": "stdout",
     "output_type": "stream",
     "text": [
      "1,4,7\n",
      "2,5,8\n",
      "3,6,9\n"
     ]
    }
   ],
   "source": [
    "# tRANSPOSE  matrix\n",
    "matrix = [[1,2,3],[4,5,6,],[7,8,9]]\n",
    "trans = list(zip(*matrix)) \n",
    "# trans = [[row[i] for i in matrix] for j in range(len(matrix[0]))]\n",
    "for row in trans:\n",
    "    print(\",\".join(map(str, row)))\n"
   ]
  },
  {
   "cell_type": "code",
   "execution_count": 9,
   "id": "f7e8426b",
   "metadata": {},
   "outputs": [
    {
     "name": "stdout",
     "output_type": "stream",
     "text": [
      "1999-12-01 00:00:00 is 335\n"
     ]
    }
   ],
   "source": [
    "# Find the DAy of the year \n",
    "from datetime import datetime\n",
    "\n",
    "day = lambda x: x.timetuple().tm_yday\n",
    "\n",
    "\n",
    "date = input(\"Enter a date in YYYY-MM-DD format: \")\n",
    "\n",
    "date_obj = datetime.strptime(date, \"%Y-%m-%d\")\n",
    "dayyyy=day(date_obj)\n",
    "print(f'{date_obj} is {dayyyy}')\n",
    "\n",
    " "
   ]
  },
  {
   "cell_type": "code",
   "execution_count": null,
   "id": "07c85d84",
   "metadata": {},
   "outputs": [
    {
     "name": "stdout",
     "output_type": "stream",
     "text": [
      "Hari got 11lpc job in microsoft data analytics  Hari got 11lpc job in microsoft data analytics  Hari got 11lpc job in microsoft data analytics  Hari got 11lpc job in microsoft data analytics  Hari got 11lpc job in microsoft data analytics  Hari got 11lpc job in microsoft data analytics  Hari got 11lpc job in microsoft data analytics  Hari got 11lpc job in microsoft data analytics \n"
     ]
    }
   ],
   "source": [
    "# Captilize 1st Charector in the  all words in sentence \n",
    "s=input('Enter the sentence :')\n",
    "cap =lambda x :' '.join(word[0].upper() + word[1:] if word else \"\" for word in x.split()) \n",
    "capp=s.title()\n",
    "# cap =s.capwords(s)\n",
    "print(cap(s),capp)"
   ]
  },
  {
   "cell_type": "code",
   "execution_count": 14,
   "id": "37cf576e",
   "metadata": {},
   "outputs": [
    {
     "name": "stdout",
     "output_type": "stream",
     "text": [
      "Number of days between 1999-12-1 and 2000-12-1 is: 366 days\n"
     ]
    }
   ],
   "source": [
    "# find the no of the days between 2 days \n",
    "from datetime import datetime \n",
    "d1,d2= input(\"enter the 2 days in year-month-date format :\").split()\n",
    "\n",
    "day1_obj = datetime.strptime(d1, \"%Y-%m-%d\")\n",
    "day2_obj = datetime.strptime(d2, \"%Y-%m-%d\")\n",
    "\n",
    "diff = abs((day2_obj - day1_obj).days)\n",
    "\n",
    "print(f\"Number of days between {d1} and {d2} is: {diff} days\")"
   ]
  },
  {
   "cell_type": "code",
   "execution_count": 16,
   "id": "48152596",
   "metadata": {},
   "outputs": [
    {
     "name": "stdout",
     "output_type": "stream",
     "text": [
      "h=>1, e=>1, l=>2, o=>1\n"
     ]
    }
   ],
   "source": [
    "from collections import Counter\n",
    "\n",
    "result = Counter(\"hello\")\n",
    "print(\", \".join([f\"{k}=>{v}\" for k, v in result.items()]))\n"
   ]
  },
  {
   "cell_type": "code",
   "execution_count": null,
   "id": "867ea678",
   "metadata": {},
   "outputs": [],
   "source": []
  },
  {
   "cell_type": "code",
   "execution_count": null,
   "id": "c2e85832",
   "metadata": {},
   "outputs": [],
   "source": []
  },
  {
   "cell_type": "code",
   "execution_count": null,
   "id": "5a52ad5b",
   "metadata": {},
   "outputs": [],
   "source": []
  }
 ],
 "metadata": {
  "kernelspec": {
   "display_name": "Python 3",
   "language": "python",
   "name": "python3"
  },
  "language_info": {
   "codemirror_mode": {
    "name": "ipython",
    "version": 3
   },
   "file_extension": ".py",
   "mimetype": "text/x-python",
   "name": "python",
   "nbconvert_exporter": "python",
   "pygments_lexer": "ipython3",
   "version": "3.13.5"
  }
 },
 "nbformat": 4,
 "nbformat_minor": 5
}
