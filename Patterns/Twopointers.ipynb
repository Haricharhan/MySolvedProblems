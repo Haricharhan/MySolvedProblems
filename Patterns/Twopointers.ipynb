{
 "cells": [
  {
   "cell_type": "code",
   "execution_count": 1,
   "id": "61f34330",
   "metadata": {},
   "outputs": [
    {
     "name": "stdout",
     "output_type": "stream",
     "text": [
      "Is my code worked or not . I want to know ??\n"
     ]
    }
   ],
   "source": [
    "print(\"Is my code worked or not . I want to know ??\")"
   ]
  },
  {
   "cell_type": "code",
   "execution_count": 5,
   "metadata": {},
   "outputs": [
    {
     "name": "stdout",
     "output_type": "stream",
     "text": [
      "Enter the elements of array 1 (sorted):\n",
      "Enter the elements of array 2 (sorted):\n",
      "Merged and Split:\n",
      "a : [1, 2, 3]\n",
      "b : [5, 7, 8, 10]\n"
     ]
    }
   ],
   "source": [
    "# Merge two sorted arrays, then split the merged result into a and b\n",
    "def merge(a, b):\n",
    "    n, m = len(a), len(b)\n",
    "    l = r = 0\n",
    "    merged = []\n",
    "\n",
    "    # Merge step: like in merge sort\n",
    "    while l < n and r < m:\n",
    "        if a[l] <= b[r]:\n",
    "            merged.append(a[l])\n",
    "            l += 1\n",
    "        else:\n",
    "            merged.append(b[r])\n",
    "            r += 1\n",
    "\n",
    "    # Add remaining elements\n",
    "    while l < n:\n",
    "        merged.append(a[l])\n",
    "        l += 1\n",
    "    while r < m:\n",
    "        merged.append(b[r])\n",
    "        r += 1\n",
    "\n",
    "    # Split back into a and b with original sizes\n",
    "    new_a = merged[:n]\n",
    "    new_b = merged[n:]\n",
    "    \n",
    "    return new_a, new_b\n",
    "\n",
    "\n",
    "# Input handling\n",
    "a = []\n",
    "b = []\n",
    "\n",
    "size1, size2 = map(int, input(\"Enter the sizes n and m: \").split())\n",
    "\n",
    "print(\"Enter the elements of array 1 (sorted):\")\n",
    "for _ in range(size1):\n",
    "    a.append(int(input()))\n",
    "\n",
    "print(\"Enter the elements of array 2 (sorted):\")\n",
    "for _ in range(size2):\n",
    "    b.append(int(input()))\n",
    "\n",
    "a, b = merge(a, b)\n",
    "\n",
    "print(f'Merged and Split:')\n",
    "print(f'a : {a}')\n",
    "print(f'b : {b}')\n"
   ]
  },
  {
   "cell_type": "code",
   "execution_count": 4,
   "id": "f5ecc3a7",
   "metadata": {},
   "outputs": [
    {
     "name": "stdout",
     "output_type": "stream",
     "text": [
      "Enter 3 sorted elements for nums1 (space-separated):\n",
      "Enter 3 sorted elements for nums2 (space-separated):\n",
      "Merged Array: [1, 2, 2, 4, 5, 6]\n"
     ]
    }
   ],
   "source": [
    "# LeetCode Problem 88: Merge Sorted Array\n",
    "\n",
    "class Solution:\n",
    "    def merge(self, nums1, m, nums2, n):\n",
    "        p1 = m - 1\n",
    "        p2 = n - 1\n",
    "        p = m + n - 1\n",
    "        \n",
    "        while p1 >= 0 and p2 >= 0:\n",
    "            if nums1[p1] > nums2[p2]:\n",
    "                nums1[p] = nums1[p1]\n",
    "                p1 -= 1\n",
    "            else:\n",
    "                nums1[p] = nums2[p2]\n",
    "                p2 -= 1\n",
    "            p -= 1\n",
    "        \n",
    "        # Only remaining elements in nums2 need to be copied\n",
    "        while p2 >= 0:\n",
    "            nums1[p] = nums2[p2]\n",
    "            p2 -= 1\n",
    "            p -= 1\n",
    "\n",
    "if __name__ == \"__main__\":\n",
    "    # Take m and n\n",
    "    m, n = map(int, input(\"Enter values of m and n: \").split())\n",
    "\n",
    "    # Input m elements for nums1\n",
    "    print(f\"Enter {m} sorted elements for nums1 (space-separated):\")\n",
    "    nums1_values = list(map(int, input().split()))\n",
    "\n",
    "    # Fill the rest of nums1 with 0s to make space for nums2\n",
    "    nums1 = nums1_values + [0] * n\n",
    "\n",
    "    # Input n elements for nums2\n",
    "    print(f\"Enter {n} sorted elements for nums2 (space-separated):\")\n",
    "    nums2 = list(map(int, input().split()))\n",
    "\n",
    "    # Create and call solution\n",
    "    sol = Solution()\n",
    "    sol.merge(nums1, m, nums2, n)\n",
    "\n",
    "    print(\"Merged Array:\", nums1)\n"
   ]
  },
  {
   "cell_type": "code",
   "execution_count": null,
   "id": "42f64427",
   "metadata": {},
   "outputs": [],
   "source": [
    "#####################"
   ]
  },
  {
   "cell_type": "code",
   "execution_count": null,
   "metadata": {},
   "outputs": [],
   "source": []
  },
  {
   "cell_type": "code",
   "execution_count": null,
   "id": "4ef45412",
   "metadata": {},
   "outputs": [],
   "source": []
  },
  {
   "cell_type": "code",
   "execution_count": null,
   "id": "2e592599",
   "metadata": {},
   "outputs": [],
   "source": []
  },
  {
   "cell_type": "code",
   "execution_count": null,
   "metadata": {},
   "outputs": [],
   "source": []
  },
  {
   "cell_type": "code",
   "execution_count": null,
   "id": "2b258673",
   "metadata": {},
   "outputs": [],
   "source": []
  }
 ],
 "metadata": {
  "kernelspec": {
   "display_name": "Python 3",
   "language": "python",
   "name": "python3"
  },
  "language_info": {
   "codemirror_mode": {
    "name": "ipython",
    "version": 3
   },
   "file_extension": ".py",
   "mimetype": "text/x-python",
   "name": "python",
   "nbconvert_exporter": "python",
   "pygments_lexer": "ipython3",
   "version": "3.13.5"
  }
 },
 "nbformat": 4,
 "nbformat_minor": 5
}
